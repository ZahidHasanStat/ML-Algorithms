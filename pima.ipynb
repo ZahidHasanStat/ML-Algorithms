{
  "nbformat": 4,
  "nbformat_minor": 0,
  "metadata": {
    "colab": {
      "name": "pima.ipynb",
      "provenance": [],
      "collapsed_sections": [],
      "authorship_tag": "ABX9TyNLl6tleXHM/HqyOvMOoPgt",
      "include_colab_link": true
    },
    "kernelspec": {
      "name": "python3",
      "display_name": "Python 3"
    }
  },
  "cells": [
    {
      "cell_type": "markdown",
      "metadata": {
        "id": "view-in-github",
        "colab_type": "text"
      },
      "source": [
        "<a href=\"https://colab.research.google.com/github/ZahidHasanStat/ML-Algorithms/blob/main/pima.ipynb\" target=\"_parent\"><img src=\"https://colab.research.google.com/assets/colab-badge.svg\" alt=\"Open In Colab\"/></a>"
      ]
    },
    {
      "cell_type": "markdown",
      "metadata": {
        "id": "pwZiSPC3oYqz"
      },
      "source": [
        "This a demostration of a different machine learning Algorithm with python.The 'Indian Pima diabetes' dataset is used here.Several machine learning model was build to predict the state of diabetes.At the end Roc & Auc is used to compare the different models.\r\n",
        "\r\n",
        "Zahid Hasan\r\n",
        "\r\n",
        "Department of Statistic\r\n",
        "\r\n",
        "Islamic University"
      ]
    },
    {
      "cell_type": "code",
      "metadata": {
        "id": "Mn1HRHJ_UdvC"
      },
      "source": [
        "#Importing Libraries\r\n",
        "import pandas as pd\r\n",
        "import numpy as np\r\n",
        "import matplotlib.pyplot as plt\r\n",
        "import seaborn as sns"
      ],
      "execution_count": 62,
      "outputs": []
    },
    {
      "cell_type": "code",
      "metadata": {
        "id": "OeUtFLAPUlhQ"
      },
      "source": [
        "#reading data\r\n",
        "pima=pd.read_csv('diabetes.csv')"
      ],
      "execution_count": 63,
      "outputs": []
    },
    {
      "cell_type": "code",
      "metadata": {
        "colab": {
          "base_uri": "https://localhost:8080/",
          "height": 204
        },
        "id": "dOin3tsUVSFz",
        "outputId": "fc2ac990-0efe-44b1-8b57-7a309fbf68cf"
      },
      "source": [
        "pima.head()"
      ],
      "execution_count": 64,
      "outputs": [
        {
          "output_type": "execute_result",
          "data": {
            "text/html": [
              "<div>\n",
              "<style scoped>\n",
              "    .dataframe tbody tr th:only-of-type {\n",
              "        vertical-align: middle;\n",
              "    }\n",
              "\n",
              "    .dataframe tbody tr th {\n",
              "        vertical-align: top;\n",
              "    }\n",
              "\n",
              "    .dataframe thead th {\n",
              "        text-align: right;\n",
              "    }\n",
              "</style>\n",
              "<table border=\"1\" class=\"dataframe\">\n",
              "  <thead>\n",
              "    <tr style=\"text-align: right;\">\n",
              "      <th></th>\n",
              "      <th>Pregnancies</th>\n",
              "      <th>Glucose</th>\n",
              "      <th>BloodPressure</th>\n",
              "      <th>SkinThickness</th>\n",
              "      <th>Insulin</th>\n",
              "      <th>BMI</th>\n",
              "      <th>DiabetesPedigreeFunction</th>\n",
              "      <th>Age</th>\n",
              "      <th>Outcome</th>\n",
              "    </tr>\n",
              "  </thead>\n",
              "  <tbody>\n",
              "    <tr>\n",
              "      <th>0</th>\n",
              "      <td>6</td>\n",
              "      <td>148</td>\n",
              "      <td>72</td>\n",
              "      <td>35</td>\n",
              "      <td>0</td>\n",
              "      <td>33.6</td>\n",
              "      <td>0.627</td>\n",
              "      <td>50</td>\n",
              "      <td>1</td>\n",
              "    </tr>\n",
              "    <tr>\n",
              "      <th>1</th>\n",
              "      <td>1</td>\n",
              "      <td>85</td>\n",
              "      <td>66</td>\n",
              "      <td>29</td>\n",
              "      <td>0</td>\n",
              "      <td>26.6</td>\n",
              "      <td>0.351</td>\n",
              "      <td>31</td>\n",
              "      <td>0</td>\n",
              "    </tr>\n",
              "    <tr>\n",
              "      <th>2</th>\n",
              "      <td>8</td>\n",
              "      <td>183</td>\n",
              "      <td>64</td>\n",
              "      <td>0</td>\n",
              "      <td>0</td>\n",
              "      <td>23.3</td>\n",
              "      <td>0.672</td>\n",
              "      <td>32</td>\n",
              "      <td>1</td>\n",
              "    </tr>\n",
              "    <tr>\n",
              "      <th>3</th>\n",
              "      <td>1</td>\n",
              "      <td>89</td>\n",
              "      <td>66</td>\n",
              "      <td>23</td>\n",
              "      <td>94</td>\n",
              "      <td>28.1</td>\n",
              "      <td>0.167</td>\n",
              "      <td>21</td>\n",
              "      <td>0</td>\n",
              "    </tr>\n",
              "    <tr>\n",
              "      <th>4</th>\n",
              "      <td>0</td>\n",
              "      <td>137</td>\n",
              "      <td>40</td>\n",
              "      <td>35</td>\n",
              "      <td>168</td>\n",
              "      <td>43.1</td>\n",
              "      <td>2.288</td>\n",
              "      <td>33</td>\n",
              "      <td>1</td>\n",
              "    </tr>\n",
              "  </tbody>\n",
              "</table>\n",
              "</div>"
            ],
            "text/plain": [
              "   Pregnancies  Glucose  BloodPressure  ...  DiabetesPedigreeFunction  Age  Outcome\n",
              "0            6      148             72  ...                     0.627   50        1\n",
              "1            1       85             66  ...                     0.351   31        0\n",
              "2            8      183             64  ...                     0.672   32        1\n",
              "3            1       89             66  ...                     0.167   21        0\n",
              "4            0      137             40  ...                     2.288   33        1\n",
              "\n",
              "[5 rows x 9 columns]"
            ]
          },
          "metadata": {
            "tags": []
          },
          "execution_count": 64
        }
      ]
    },
    {
      "cell_type": "code",
      "metadata": {
        "id": "KwbM20YeVW37"
      },
      "source": [
        "#declaring variables\r\n",
        "inputs = pima.drop('Outcome',axis='columns')\r\n",
        "target = pima.Outcome"
      ],
      "execution_count": 65,
      "outputs": []
    },
    {
      "cell_type": "code",
      "metadata": {
        "id": "q6xkcv62VuUa"
      },
      "source": [
        "#spliting the data for validation\r\n",
        "from sklearn.model_selection import train_test_split\r\n",
        "#Test set=20%\r\n",
        "X_train, X_test, y_train, y_test = train_test_split(inputs,target,test_size=0.2,random_state=1)"
      ],
      "execution_count": 66,
      "outputs": []
    },
    {
      "cell_type": "code",
      "metadata": {
        "colab": {
          "base_uri": "https://localhost:8080/"
        },
        "id": "KiK1ANAyV7Lh",
        "outputId": "4c9bf578-ed9d-45b4-d6dd-248fcb3a5093"
      },
      "source": [
        "print(len(X_train))\r\n",
        "print(len(X_test))"
      ],
      "execution_count": 67,
      "outputs": [
        {
          "output_type": "stream",
          "text": [
            "614\n",
            "154\n"
          ],
          "name": "stdout"
        }
      ]
    },
    {
      "cell_type": "code",
      "metadata": {
        "id": "lKIqfIm9WOir"
      },
      "source": [
        "#Importing different algorithms\r\n",
        "from sklearn.linear_model import LogisticRegression\r\n",
        "from sklearn.ensemble import RandomForestClassifier\r\n",
        "from sklearn.svm import LinearSVC\r\n",
        "from sklearn import tree\r\n",
        "lr=LogisticRegression()\r\n",
        "svc=LinearSVC()\r\n",
        "rfc=RandomForestClassifier()\r\n",
        "dt = tree.DecisionTreeClassifier()"
      ],
      "execution_count": 68,
      "outputs": []
    },
    {
      "cell_type": "code",
      "metadata": {
        "colab": {
          "base_uri": "https://localhost:8080/"
        },
        "id": "OjwWKS3TWa1l",
        "outputId": "2bd14a63-b284-4c3a-e612-3009b831ea0e"
      },
      "source": [
        "#Fitting Decision Trees\r\n",
        "dt.fit(X_train,y_train)\r\n"
      ],
      "execution_count": 69,
      "outputs": [
        {
          "output_type": "execute_result",
          "data": {
            "text/plain": [
              "DecisionTreeClassifier(ccp_alpha=0.0, class_weight=None, criterion='gini',\n",
              "                       max_depth=None, max_features=None, max_leaf_nodes=None,\n",
              "                       min_impurity_decrease=0.0, min_impurity_split=None,\n",
              "                       min_samples_leaf=1, min_samples_split=2,\n",
              "                       min_weight_fraction_leaf=0.0, presort='deprecated',\n",
              "                       random_state=None, splitter='best')"
            ]
          },
          "metadata": {
            "tags": []
          },
          "execution_count": 69
        }
      ]
    },
    {
      "cell_type": "code",
      "metadata": {
        "colab": {
          "base_uri": "https://localhost:8080/"
        },
        "id": "IwPM0vF5Xg20",
        "outputId": "6efa58af-d723-45e5-f635-706a29ef51e9"
      },
      "source": [
        "#Fitting Logistic Regression\r\n",
        "lr.fit(X_train,y_train)"
      ],
      "execution_count": 70,
      "outputs": [
        {
          "output_type": "stream",
          "text": [
            "/usr/local/lib/python3.6/dist-packages/sklearn/linear_model/_logistic.py:940: ConvergenceWarning: lbfgs failed to converge (status=1):\n",
            "STOP: TOTAL NO. of ITERATIONS REACHED LIMIT.\n",
            "\n",
            "Increase the number of iterations (max_iter) or scale the data as shown in:\n",
            "    https://scikit-learn.org/stable/modules/preprocessing.html\n",
            "Please also refer to the documentation for alternative solver options:\n",
            "    https://scikit-learn.org/stable/modules/linear_model.html#logistic-regression\n",
            "  extra_warning_msg=_LOGISTIC_SOLVER_CONVERGENCE_MSG)\n"
          ],
          "name": "stderr"
        },
        {
          "output_type": "execute_result",
          "data": {
            "text/plain": [
              "LogisticRegression(C=1.0, class_weight=None, dual=False, fit_intercept=True,\n",
              "                   intercept_scaling=1, l1_ratio=None, max_iter=100,\n",
              "                   multi_class='auto', n_jobs=None, penalty='l2',\n",
              "                   random_state=None, solver='lbfgs', tol=0.0001, verbose=0,\n",
              "                   warm_start=False)"
            ]
          },
          "metadata": {
            "tags": []
          },
          "execution_count": 70
        }
      ]
    },
    {
      "cell_type": "code",
      "metadata": {
        "colab": {
          "base_uri": "https://localhost:8080/"
        },
        "id": "osfGw2aJXjvx",
        "outputId": "3ef42634-8242-4301-a306-8a950031bf2b"
      },
      "source": [
        "#Fitting Random Forest Classifier\r\n",
        "rfc.fit(X_train,y_train)"
      ],
      "execution_count": 71,
      "outputs": [
        {
          "output_type": "execute_result",
          "data": {
            "text/plain": [
              "RandomForestClassifier(bootstrap=True, ccp_alpha=0.0, class_weight=None,\n",
              "                       criterion='gini', max_depth=None, max_features='auto',\n",
              "                       max_leaf_nodes=None, max_samples=None,\n",
              "                       min_impurity_decrease=0.0, min_impurity_split=None,\n",
              "                       min_samples_leaf=1, min_samples_split=2,\n",
              "                       min_weight_fraction_leaf=0.0, n_estimators=100,\n",
              "                       n_jobs=None, oob_score=False, random_state=None,\n",
              "                       verbose=0, warm_start=False)"
            ]
          },
          "metadata": {
            "tags": []
          },
          "execution_count": 71
        }
      ]
    },
    {
      "cell_type": "code",
      "metadata": {
        "colab": {
          "base_uri": "https://localhost:8080/"
        },
        "id": "_TIYjddGXn3y",
        "outputId": "7b90dbd7-d46d-437b-c0ce-5026829c500e"
      },
      "source": [
        "#Fitting SVM\r\n",
        "svc.fit(X_train,y_train)"
      ],
      "execution_count": 72,
      "outputs": [
        {
          "output_type": "stream",
          "text": [
            "/usr/local/lib/python3.6/dist-packages/sklearn/svm/_base.py:947: ConvergenceWarning: Liblinear failed to converge, increase the number of iterations.\n",
            "  \"the number of iterations.\", ConvergenceWarning)\n"
          ],
          "name": "stderr"
        },
        {
          "output_type": "execute_result",
          "data": {
            "text/plain": [
              "LinearSVC(C=1.0, class_weight=None, dual=True, fit_intercept=True,\n",
              "          intercept_scaling=1, loss='squared_hinge', max_iter=1000,\n",
              "          multi_class='ovr', penalty='l2', random_state=None, tol=0.0001,\n",
              "          verbose=0)"
            ]
          },
          "metadata": {
            "tags": []
          },
          "execution_count": 72
        }
      ]
    },
    {
      "cell_type": "code",
      "metadata": {
        "id": "qetk1-1QXqYJ"
      },
      "source": [
        "#Predicting on test data\r\n",
        "y_dt=dt.predict(X_test)\r\n",
        "y_lr=lr.predict(X_test)\r\n",
        "y_rfc=rfc.predict(X_test)\r\n",
        "y_svc=svc.predict(X_test)"
      ],
      "execution_count": 73,
      "outputs": []
    },
    {
      "cell_type": "code",
      "metadata": {
        "colab": {
          "base_uri": "https://localhost:8080/"
        },
        "id": "hHQHQxXaYXb-",
        "outputId": "c7484f67-c285-4772-8ff0-749325a61adf"
      },
      "source": [
        "dt.score(X_test,y_test)"
      ],
      "execution_count": 74,
      "outputs": [
        {
          "output_type": "execute_result",
          "data": {
            "text/plain": [
              "0.7077922077922078"
            ]
          },
          "metadata": {
            "tags": []
          },
          "execution_count": 74
        }
      ]
    },
    {
      "cell_type": "code",
      "metadata": {
        "colab": {
          "base_uri": "https://localhost:8080/"
        },
        "id": "hUQK9LwVYeyC",
        "outputId": "0388198d-022d-41d1-b1e5-9b32a7d5d392"
      },
      "source": [
        "svc.score(X_test,y_test)"
      ],
      "execution_count": 75,
      "outputs": [
        {
          "output_type": "execute_result",
          "data": {
            "text/plain": [
              "0.6753246753246753"
            ]
          },
          "metadata": {
            "tags": []
          },
          "execution_count": 75
        }
      ]
    },
    {
      "cell_type": "code",
      "metadata": {
        "colab": {
          "base_uri": "https://localhost:8080/"
        },
        "id": "lk3zO7tvYo9U",
        "outputId": "a8f277b7-e514-4c0a-b864-67edd89c1cf2"
      },
      "source": [
        "rfc.score(X_test,y_test)"
      ],
      "execution_count": 76,
      "outputs": [
        {
          "output_type": "execute_result",
          "data": {
            "text/plain": [
              "0.7857142857142857"
            ]
          },
          "metadata": {
            "tags": []
          },
          "execution_count": 76
        }
      ]
    },
    {
      "cell_type": "code",
      "metadata": {
        "colab": {
          "base_uri": "https://localhost:8080/"
        },
        "id": "c0EOqYJ7Yq-s",
        "outputId": "f445231b-ffad-4b08-8530-3baec50a0c59"
      },
      "source": [
        "lr.score(X_test,y_test)"
      ],
      "execution_count": 77,
      "outputs": [
        {
          "output_type": "execute_result",
          "data": {
            "text/plain": [
              "0.7792207792207793"
            ]
          },
          "metadata": {
            "tags": []
          },
          "execution_count": 77
        }
      ]
    },
    {
      "cell_type": "code",
      "metadata": {
        "id": "AbMYbgTbYuF4"
      },
      "source": [
        "#Confusion Matrix\r\n",
        "from sklearn.metrics import confusion_matrix"
      ],
      "execution_count": 78,
      "outputs": []
    },
    {
      "cell_type": "code",
      "metadata": {
        "colab": {
          "base_uri": "https://localhost:8080/",
          "height": 316
        },
        "id": "3sjb3gD6Y5tS",
        "outputId": "d8c291fa-1cca-404e-83be-a8b29700a124"
      },
      "source": [
        "#cm for Logistic Regression\r\n",
        "cf_lr = confusion_matrix(y_test, y_lr)\r\n",
        "print(cf_lr)\r\n",
        "sns.heatmap(cf_lr, annot=True)"
      ],
      "execution_count": 79,
      "outputs": [
        {
          "output_type": "stream",
          "text": [
            "[[89 10]\n",
            " [24 31]]\n"
          ],
          "name": "stdout"
        },
        {
          "output_type": "execute_result",
          "data": {
            "text/plain": [
              "<matplotlib.axes._subplots.AxesSubplot at 0x7f60d36e6e48>"
            ]
          },
          "metadata": {
            "tags": []
          },
          "execution_count": 79
        },
        {
          "output_type": "display_data",
          "data": {
            "image/png": "[encoded data removed]",
            "text/plain": [
              "<Figure size 432x288 with 2 Axes>"
            ]
          },
          "metadata": {
            "tags": []
          }
        }
      ]
    },
    {
      "cell_type": "code",
      "metadata": {
        "colab": {
          "base_uri": "https://localhost:8080/",
          "height": 316
        },
        "id": "TeHLiWdWaeiQ",
        "outputId": "5440e30f-7255-434d-dfe6-803bedb087c1"
      },
      "source": [
        "#cm for Decision Tree\r\n",
        "cf_dt = confusion_matrix(y_test, y_dt)\r\n",
        "print(cf_dt)\r\n",
        "sns.heatmap(cf_dt, annot=True)"
      ],
      "execution_count": 80,
      "outputs": [
        {
          "output_type": "stream",
          "text": [
            "[[78 21]\n",
            " [24 31]]\n"
          ],
          "name": "stdout"
        },
        {
          "output_type": "execute_result",
          "data": {
            "text/plain": [
              "<matplotlib.axes._subplots.AxesSubplot at 0x7f60d3622fd0>"
            ]
          },
          "metadata": {
            "tags": []
          },
          "execution_count": 80
        },
        {
          "output_type": "display_data",
          "data": {
            "image/png": "[encoded data removed]",
            "text/plain": [
              "<Figure size 432x288 with 2 Axes>"
            ]
          },
          "metadata": {
            "tags": []
          }
        }
      ]
    },
    {
      "cell_type": "code",
      "metadata": {
        "colab": {
          "base_uri": "https://localhost:8080/",
          "height": 316
        },
        "id": "QpyAkt-KbTI_",
        "outputId": "257e780a-9297-4ac8-f86c-1b3926d46003"
      },
      "source": [
        "#cm for Random Forest\r\n",
        "cf_rfc = confusion_matrix(y_test, y_rfc)\r\n",
        "print(cf_rfc)\r\n",
        "sns.heatmap(cf_rfc, annot=True)"
      ],
      "execution_count": 81,
      "outputs": [
        {
          "output_type": "stream",
          "text": [
            "[[86 13]\n",
            " [20 35]]\n"
          ],
          "name": "stdout"
        },
        {
          "output_type": "execute_result",
          "data": {
            "text/plain": [
              "<matplotlib.axes._subplots.AxesSubplot at 0x7f60d35aeef0>"
            ]
          },
          "metadata": {
            "tags": []
          },
          "execution_count": 81
        },
        {
          "output_type": "display_data",
          "data": {
            "image/png": "[encoded data removed]",
            "text/plain": [
              "<Figure size 432x288 with 2 Axes>"
            ]
          },
          "metadata": {
            "tags": []
          }
        }
      ]
    },
    {
      "cell_type": "code",
      "metadata": {
        "colab": {
          "base_uri": "https://localhost:8080/",
          "height": 316
        },
        "id": "f9QPMt2obdRQ",
        "outputId": "7279a97e-bdc6-455a-d04b-a3904d929d3d"
      },
      "source": [
        "#cm for SVM\r\n",
        "cf_svc = confusion_matrix(y_test, y_svc)\r\n",
        "print(cf_svc)\r\n",
        "sns.heatmap(cf_svc, annot=True)"
      ],
      "execution_count": 82,
      "outputs": [
        {
          "output_type": "stream",
          "text": [
            "[[99  0]\n",
            " [50  5]]\n"
          ],
          "name": "stdout"
        },
        {
          "output_type": "execute_result",
          "data": {
            "text/plain": [
              "<matplotlib.axes._subplots.AxesSubplot at 0x7f60d3579b38>"
            ]
          },
          "metadata": {
            "tags": []
          },
          "execution_count": 82
        },
        {
          "output_type": "display_data",
          "data": {
            "image/png": "[encoded data removed]",
            "text/plain": [
              "<Figure size 432x288 with 2 Axes>"
            ]
          },
          "metadata": {
            "tags": []
          }
        }
      ]
    },
    {
      "cell_type": "code",
      "metadata": {
        "id": "GeRRffFwbjrY"
      },
      "source": [
        "#fpr=false positive Rate,tpr=True positive Rate\r\n",
        "import sklearn.metrics as metrics\r\n",
        "# calculate the fpr and tpr for all thresholds of the classification\r\n",
        "probs = lr.predict_proba(X_test)\r\n",
        "preds = probs[:,1]\r\n",
        "fpr, tpr, threshold = metrics.roc_curve(y_test, preds)\r\n",
        "roc_auc = metrics.auc(fpr, tpr)"
      ],
      "execution_count": 83,
      "outputs": []
    },
    {
      "cell_type": "code",
      "metadata": {
        "colab": {
          "base_uri": "https://localhost:8080/",
          "height": 299
        },
        "id": "9vos6MU4cLz5",
        "outputId": "d0d615ff-40d5-4eaf-ccb0-1753d8c87390"
      },
      "source": [
        "#ROC Curve\r\n",
        "plt.style.use('ggplot')\r\n",
        "from sklearn.metrics import roc_curve\r\n",
        "y_pred_prob1 = lr.predict_proba(X_test)[:,1]\r\n",
        "fpr1 , tpr1, thresholds1 = roc_curve(y_test, y_pred_prob1)\r\n",
        "\r\n",
        "y_pred_prob2 = dt.predict_proba(X_test)[:,1]\r\n",
        "fpr2 , tpr2, thresholds2 = roc_curve(y_test, y_pred_prob2)\r\n",
        "\r\n",
        "\r\n",
        "y_pred_prob3 = rfc.predict_proba(X_test)[:,1]\r\n",
        "fpr3 , tpr3, thresholds3 = roc_curve(y_test, y_pred_prob3)\r\n",
        "\r\n",
        "\r\n",
        "plt.plot([0,1],[0,1], 'k--')\r\n",
        "plt.plot(fpr1, tpr1, label= \"Logistic\")\r\n",
        "plt.plot(fpr2, tpr2, label= \"Decision Tree\")\r\n",
        "plt.plot(fpr3, tpr3, label= \"Random Forest\")\r\n",
        "plt.legend()\r\n",
        "plt.xlabel(\"FPR\")\r\n",
        "plt.ylabel(\"TPR\")\r\n",
        "plt.title('Receiver Operating Characteristic')\r\n",
        "plt.show()"
      ],
      "execution_count": 84,
      "outputs": [
        {
          "output_type": "display_data",
          "data": {
            "image/png": "[encoded data removed]",
            "text/plain": [
              "<Figure size 432x288 with 1 Axes>"
            ]
          },
          "metadata": {
            "tags": []
          }
        }
      ]
    }
  ]
}